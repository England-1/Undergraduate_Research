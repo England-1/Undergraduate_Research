{
 "cells": [
  {
   "cell_type": "markdown",
   "metadata": {},
   "source": [
    "# <span style=\"color:DarkGreen\"> *Downloading HREF Member Data* </span>\n",
    "***\n",
    "###### This notebook has been created to help users download HREF member data from the NSSL (National Severe Storms Laboratory) HREF Archive. Running this notebook with your desired inputs will output a text file with links to HREF member data. Closely follow the instructions below to finish downloading HREF data.\n",
    "###### \n",
    "### *Instructions*\n",
    "   - View the cell below and input your desired initialization time, forecast time and output .txt file name.\n",
    "   - Run the notebook.\n",
    "   - Locate the textfile constructed from the code below. (Located in the same directory as this notebook)\n",
    "   - Move the newly created text file to a directory in linux where you would like to download the data.\n",
    "   - Run the following command on the textfile, where \"untitled.txt\" is the filename you choose.\n",
    "                       \n",
    "                                wget -i untitled.txt "
   ]
  },
  {
   "cell_type": "markdown",
   "metadata": {},
   "source": [
    "\n",
    "\n"
   ]
  },
  {
   "cell_type": "markdown",
   "metadata": {},
   "source": [
    "#### *Inputs*"
   ]
  },
  {
   "cell_type": "code",
   "execution_count": 1,
   "metadata": {},
   "outputs": [],
   "source": [
    "######################################################################\n",
    "# Initialization time of HREF members\n",
    "year = '2022' \n",
    "month = '02' \n",
    "day = '17' \n",
    "hour = '00' \n",
    "\n",
    "# Forecast time range of model(s)\n",
    "starthour = 1 # Inclusive\n",
    "endhour = 2 # Inclusive\n",
    "\n",
    "# Output txt.file title\n",
    "title = 'testing.txt' # Keep .txt in filename\n",
    "######################################################################"
   ]
  },
  {
   "cell_type": "code",
   "execution_count": 2,
   "metadata": {},
   "outputs": [
    {
     "name": "stdout",
     "output_type": "stream",
     "text": [
      "Text file with HREF links created called: iop4.txt\n"
     ]
    }
   ],
   "source": [
    "# Imports\n",
    "import math\n",
    "import numpy as np\n",
    "import pandas as pd\n",
    "\n",
    "#Interpreting Input Information\n",
    "basedir = 'https://data.nssl.noaa.gov/thredds/fileServer/FRDD/HREF'\n",
    "yyyymmddhh = year + month + day + hour\n",
    "yyyymmdd = yyyymmddhh[0:8]\n",
    "yyyy = yyyymmddhh[0:4]\n",
    "endhour = endhour +1\n",
    "fhrs = np.arange(starthour,endhour,1)\n",
    "spacer = \"\\n\"\n",
    "\n",
    "\n",
    "# Constructing Link Addresses\n",
    "\n",
    "# ARW\n",
    "arw = []\n",
    "for fhr in fhrs:\n",
    "    arw.append(f'{basedir}/{yyyy}/{yyyymmdd}/hiresw_conusarw_'+\n",
    "               f'{yyyymmddhh}f0'+str(fhr).zfill(2)+'.grib2')\n",
    "arw_req = \"\\n\".join(arw)\n",
    "\n",
    "# FV3\n",
    "fv3 = []\n",
    "for fhr in fhrs:\n",
    "    fv3.append(f'{basedir}/{yyyy}/{yyyymmdd}/hiresw_conusfv3_'+\n",
    "               f'{yyyymmddhh}f0'+str(fhr).zfill(2)+'.grib2')\n",
    "fv3_req = \"\\n\".join(fv3)\n",
    "   \n",
    "# NSSL\n",
    "nssl = []\n",
    "for fhr in fhrs:\n",
    "    nssl.append(f'{basedir}/{yyyy}/{yyyymmdd}/hiresw_conusnssl_'+\n",
    "                f'{yyyymmddhh}f0'+str(fhr).zfill(2)+'.grib2')\n",
    "nssl_req = \"\\n\".join(nssl)\n",
    "    \n",
    "# NCEP\n",
    "ncep = []\n",
    "for fhr in fhrs:\n",
    "    ncep.append(f'{basedir}/{yyyy}/{yyyymmdd}/hrrr_ncep_'+\n",
    "                f'{yyyymmddhh}f0'+str(fhr).zfill(2)+'.grib2')\n",
    "ncep_req = \"\\n\".join(ncep)\n",
    "    \n",
    "# NAM\n",
    "nam = []\n",
    "for fhr in fhrs:\n",
    "    nam.append(f'{basedir}/{yyyy}/{yyyymmdd}/nam_conusnest_'+\n",
    "               f'{yyyymmddhh}f0'+str(fhr).zfill(2)+'.grib2')\n",
    "nam_req = \"\\n\".join(nam)\n",
    "\n",
    "# Making A Text File With Requested HREF Data\n",
    "\n",
    "with open(title, \"w\") as text_file:\n",
    "    text_file.write(arw_req)\n",
    "    text_file.write(spacer)\n",
    "    text_file.write(fv3_req)\n",
    "    text_file.write(spacer)\n",
    "    text_file.write(nssl_req)\n",
    "    text_file.write(spacer)\n",
    "    text_file.write(ncep_req)\n",
    "    text_file.write(spacer)\n",
    "    text_file.write(nam_req)\n",
    "print(\"Text file with HREF links created called: \" +title)"
   ]
  },
  {
   "cell_type": "markdown",
   "metadata": {},
   "source": [
    "#### *Link to the NSSL HREF Archive*\n",
    "\"https://data.nssl.noaa.gov/thredds/catalog/FRDD/HREF/2022/catalog.html\""
   ]
  },
  {
   "cell_type": "markdown",
   "metadata": {},
   "source": [
    "England, John | June 15th, 2022"
   ]
  }
 ],
 "metadata": {
  "kernelspec": {
   "display_name": "daes_may21",
   "language": "python",
   "name": "daes_may21"
  },
  "language_info": {
   "codemirror_mode": {
    "name": "ipython",
    "version": 3
   },
   "file_extension": ".py",
   "mimetype": "text/x-python",
   "name": "python",
   "nbconvert_exporter": "python",
   "pygments_lexer": "ipython3",
   "version": "3.8.6"
  }
 },
 "nbformat": 4,
 "nbformat_minor": 4
}
